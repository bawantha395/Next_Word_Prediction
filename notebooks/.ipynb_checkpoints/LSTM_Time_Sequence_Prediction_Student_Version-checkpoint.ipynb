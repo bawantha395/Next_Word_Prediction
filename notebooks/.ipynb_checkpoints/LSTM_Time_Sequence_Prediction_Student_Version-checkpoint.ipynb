{
  "nbformat": 4,
  "nbformat_minor": 0,
  "metadata": {
    "colab": {
      "provenance": []
    },
    "kernelspec": {
      "name": "python3",
      "display_name": "Python 3"
    },
    "language_info": {
      "name": "python"
    }
  },
  "cells": [
    {
      "cell_type": "markdown",
      "source": [
        "# **Sequence Prediction with PyTorch**"
      ],
      "metadata": {
        "id": "TscnF29QDLWF"
      }
    },
    {
      "cell_type": "markdown",
      "source": [
        "Reference:\n",
        "1. https://www.kaggle.com/code/namanmanchanda/rnn-in-pytorch"
      ],
      "metadata": {
        "id": "NIOS9Sf3Fovo"
      }
    },
    {
      "cell_type": "markdown",
      "source": [
        "### Load Necessary Libraries & Packages"
      ],
      "metadata": {
        "id": "GCfQkET7qna6"
      }
    },
    {
      "cell_type": "code",
      "execution_count": null,
      "metadata": {
        "id": "45wUajnkmp7q"
      },
      "outputs": [],
      "source": [
        "# Import the necessaty packages\n",
        "import numpy as np\n",
        "import pandas as pd\n",
        "import math\n",
        "import torch\n",
        "import torch.nn as nn\n",
        "import matplotlib.pyplot as plt\n",
        "%matplotlib inline"
      ]
    },
    {
      "cell_type": "markdown",
      "source": [
        "## **Sine Wave Prediction**"
      ],
      "metadata": {
        "id": "7Ky_YN9ornuK"
      }
    },
    {
      "cell_type": "markdown",
      "source": [
        "### Generate and Visualize Data"
      ],
      "metadata": {
        "id": "PQ5LKxWK7Tlc"
      }
    },
    {
      "cell_type": "code",
      "source": [
        "# Declare the independent variable x, as a array of values between 0 and 800 (exclude)\n",
        "# https://pytorch.org/docs/stable/generated/torch.linspace.html\n",
        "\n"
      ],
      "metadata": {
        "id": "beuhKAiqrZcy"
      },
      "execution_count": null,
      "outputs": []
    },
    {
      "cell_type": "code",
      "source": [
        "# Print first 10 values\n",
        "\n"
      ],
      "metadata": {
        "id": "9Ys_8E4PsuY3"
      },
      "execution_count": null,
      "outputs": []
    },
    {
      "cell_type": "code",
      "source": [
        "# Print last 10 values\n",
        "\n"
      ],
      "metadata": {
        "id": "KG5MuI_ns4bE"
      },
      "execution_count": null,
      "outputs": []
    },
    {
      "cell_type": "code",
      "source": [
        "# Creat the dependent variable, y as sign values\n",
        "\n"
      ],
      "metadata": {
        "id": "TgYv1L4itGom"
      },
      "execution_count": null,
      "outputs": []
    },
    {
      "cell_type": "code",
      "source": [
        "# Plot y against x\n",
        "\n"
      ],
      "metadata": {
        "id": "-0zmgW_PvYQ6"
      },
      "execution_count": null,
      "outputs": []
    },
    {
      "cell_type": "markdown",
      "source": [
        "### Data Pre-Processing"
      ],
      "metadata": {
        "id": "xb-QrOq97Ll0"
      }
    },
    {
      "cell_type": "code",
      "source": [
        "# Split the data into train/test set\n",
        "\n"
      ],
      "metadata": {
        "id": "3KpO04lNx5q4"
      },
      "execution_count": null,
      "outputs": []
    },
    {
      "cell_type": "code",
      "source": [
        "# Print Length of the train set\n",
        "\n"
      ],
      "metadata": {
        "id": "KUmL0QBO1fI9"
      },
      "execution_count": null,
      "outputs": []
    },
    {
      "cell_type": "code",
      "source": [
        "# Print Length of the test set\n",
        "\n"
      ],
      "metadata": {
        "id": "c1lshvDW1hpA"
      },
      "execution_count": null,
      "outputs": []
    },
    {
      "cell_type": "code",
      "source": [
        "# Plot the training and testing sets\n",
        "\n"
      ],
      "metadata": {
        "id": "xuKgSigO1tfa"
      },
      "execution_count": null,
      "outputs": []
    },
    {
      "cell_type": "code",
      "source": [
        "# Create function to batch data\n",
        "\n",
        "def input_data(seq, ws):\n",
        "  out = []\n",
        "  L = len(seq)\n",
        "\n",
        "  for i in range(L-ws):\n",
        "    window = seq[i:i+ws]\n",
        "    label = seq[i+ws:i+ws+1]\n",
        "    out.append((window, label))\n",
        "\n",
        "  return out"
      ],
      "metadata": {
        "id": "djUeVhOK2yei"
      },
      "execution_count": null,
      "outputs": []
    },
    {
      "cell_type": "code",
      "source": [
        "# Split data into batches (using the above function)\n",
        "\n"
      ],
      "metadata": {
        "id": "wLOw2sO96b7z"
      },
      "execution_count": null,
      "outputs": []
    },
    {
      "cell_type": "code",
      "source": [
        "# Length of the train data\n",
        "\n"
      ],
      "metadata": {
        "id": "nhFpJHev62qh"
      },
      "execution_count": null,
      "outputs": []
    },
    {
      "cell_type": "code",
      "source": [
        "# Print the first batch\n",
        "\n"
      ],
      "metadata": {
        "id": "AfRQkPrG65gd"
      },
      "execution_count": null,
      "outputs": []
    },
    {
      "cell_type": "markdown",
      "source": [
        "### Defining the LSTM Model"
      ],
      "metadata": {
        "id": "0Wf-g9kt7z06"
      }
    },
    {
      "cell_type": "code",
      "source": [
        "# Define the LSTM class\n",
        "\n"
      ],
      "metadata": {
        "id": "dR0Zli6368wF"
      },
      "execution_count": null,
      "outputs": []
    },
    {
      "cell_type": "code",
      "source": [
        "# Instantiate tge model\n",
        "\n"
      ],
      "metadata": {
        "id": "4tg25nR6Bftw"
      },
      "execution_count": null,
      "outputs": []
    },
    {
      "cell_type": "code",
      "source": [
        "# Print the LSTM model\n",
        "\n"
      ],
      "metadata": {
        "id": "d4qkVPj4B5ZA"
      },
      "execution_count": null,
      "outputs": []
    },
    {
      "cell_type": "markdown",
      "source": [
        "### Model Training"
      ],
      "metadata": {
        "id": "dgP9NXFiF2kJ"
      }
    },
    {
      "cell_type": "code",
      "source": [
        "# Define the training loop\n",
        "\n"
      ],
      "metadata": {
        "id": "K1uVw-BRE8Y-"
      },
      "execution_count": null,
      "outputs": []
    },
    {
      "cell_type": "markdown",
      "source": [
        "## **Prediction with Alcohol Sales Dataset**"
      ],
      "metadata": {
        "id": "vpA1LI5TRJr8"
      }
    },
    {
      "cell_type": "markdown",
      "source": [
        "### Data Loading and Visualization"
      ],
      "metadata": {
        "id": "O0VwPpTOgtx3"
      }
    },
    {
      "cell_type": "code",
      "source": [
        "# Load the CSV file as a pandas dataframe\n",
        "\n"
      ],
      "metadata": {
        "id": "-g-WeP7-RPt0"
      },
      "execution_count": null,
      "outputs": []
    },
    {
      "cell_type": "code",
      "source": [
        "# Print the datafeame\n",
        "\n"
      ],
      "metadata": {
        "id": "aSbmc4QpTpKa"
      },
      "execution_count": null,
      "outputs": []
    },
    {
      "cell_type": "code",
      "source": [
        "# Print information of the dataframe\n",
        "\n"
      ],
      "metadata": {
        "id": "O4UYAebWeejO"
      },
      "execution_count": null,
      "outputs": []
    },
    {
      "cell_type": "code",
      "source": [
        "# Check for null values\n",
        "\n"
      ],
      "metadata": {
        "id": "imCFarA5ek8Z"
      },
      "execution_count": null,
      "outputs": []
    },
    {
      "cell_type": "code",
      "source": [
        "# Plot the time series data\n",
        "\n"
      ],
      "metadata": {
        "id": "HnSlfP2ie63w"
      },
      "execution_count": null,
      "outputs": []
    },
    {
      "cell_type": "markdown",
      "source": [
        "### Data Preprocessing"
      ],
      "metadata": {
        "id": "zKEvmNhrgxqD"
      }
    },
    {
      "cell_type": "code",
      "source": [
        "# Extract the time series values convert to float\n",
        "\n"
      ],
      "metadata": {
        "id": "xQ7HX7RDfiGE"
      },
      "execution_count": null,
      "outputs": []
    },
    {
      "cell_type": "code",
      "source": [
        "# Define train set size\n",
        "\n",
        "\n",
        "# Split the data\n"
      ],
      "metadata": {
        "id": "SEUnuQzChlkd"
      },
      "execution_count": null,
      "outputs": []
    },
    {
      "cell_type": "code",
      "source": [
        "# Normlize the data using sklearn's MinMaxScaler (scale between -1 & 1)\n",
        "from sklearn.preprocessing import MinMaxScaler\n",
        "\n",
        "# Instantiate the scaler\n",
        "\n",
        "\n",
        "# Scale the train & test data\n"
      ],
      "metadata": {
        "id": "2KtAHYA_iJx0"
      },
      "execution_count": null,
      "outputs": []
    },
    {
      "cell_type": "code",
      "source": [
        "# Define the window size\n",
        "\n",
        "# Create batches\n"
      ],
      "metadata": {
        "id": "l1uy0JVJjenw"
      },
      "execution_count": null,
      "outputs": []
    },
    {
      "cell_type": "code",
      "source": [
        "# Print the fist batch\n",
        "\n"
      ],
      "metadata": {
        "id": "SsCV4gjVkGxp"
      },
      "execution_count": null,
      "outputs": []
    },
    {
      "cell_type": "markdown",
      "source": [
        "### Instantiate a LSTM model instance"
      ],
      "metadata": {
        "id": "P3K8kaKekN24"
      }
    },
    {
      "cell_type": "code",
      "source": [
        "# Instantiate a new LSTM model instance\n"
      ],
      "metadata": {
        "id": "_LPPJjuAkFTc"
      },
      "execution_count": null,
      "outputs": []
    },
    {
      "cell_type": "code",
      "source": [
        "# Criterion and optimizer\n"
      ],
      "metadata": {
        "id": "V1P1vp5InkWi"
      },
      "execution_count": null,
      "outputs": []
    },
    {
      "cell_type": "code",
      "source": [
        "# Define the training loop\n",
        "\n"
      ],
      "metadata": {
        "id": "9poEP_bvlRML"
      },
      "execution_count": null,
      "outputs": []
    },
    {
      "cell_type": "markdown",
      "source": [
        "### Model Predictions"
      ],
      "metadata": {
        "id": "kVEv4PZGn__E"
      }
    },
    {
      "cell_type": "code",
      "source": [
        "# Use the trained model for predictions\n",
        "\n"
      ],
      "metadata": {
        "id": "4qb6bS6KndPj"
      },
      "execution_count": null,
      "outputs": []
    },
    {
      "cell_type": "code",
      "source": [
        "# Inverse transform the predictions\n"
      ],
      "metadata": {
        "id": "pdZtFAhopat6"
      },
      "execution_count": null,
      "outputs": []
    },
    {
      "cell_type": "code",
      "source": [
        "# Comparison with origial data\n"
      ],
      "metadata": {
        "id": "qzp-va5LpK_J"
      },
      "execution_count": null,
      "outputs": []
    },
    {
      "cell_type": "code",
      "source": [
        "# Plot the predictions on top of the training data\n",
        "\n"
      ],
      "metadata": {
        "id": "94ygtopepTME"
      },
      "execution_count": null,
      "outputs": []
    },
    {
      "cell_type": "code",
      "source": [
        "# Plot the zoomed plot\n",
        "\n"
      ],
      "metadata": {
        "id": "fVxmvr0vrV2N"
      },
      "execution_count": null,
      "outputs": []
    }
  ]
}